{
  "nbformat": 4,
  "nbformat_minor": 0,
  "metadata": {
    "colab": {
      "name": "desafioPythonDIO.ipynb",
      "provenance": [],
      "collapsed_sections": [],
      "authorship_tag": "ABX9TyNRTLUeijV530yKQ6Ra0EnL",
      "include_colab_link": true
    },
    "kernelspec": {
      "name": "python3",
      "display_name": "Python 3"
    },
    "language_info": {
      "name": "python"
    }
  },
  "cells": [
    {
      "cell_type": "markdown",
      "metadata": {
        "id": "view-in-github",
        "colab_type": "text"
      },
      "source": [
        "<a href=\"https://colab.research.google.com/github/icarocnunes/desafioPythonDIO/blob/main/desafioPythonDIO.ipynb\" target=\"_parent\"><img src=\"https://colab.research.google.com/assets/colab-badge.svg\" alt=\"Open In Colab\"/></a>"
      ]
    },
    {
      "cell_type": "markdown",
      "metadata": {
        "id": "UNYfHyl9UCN-"
      },
      "source": [
        "<h1><strong>Desafio: Python para análise de dados <em>(Digital Innovation One)</em></strong> - Ícaro Cazé Nunes</h1>"
      ]
    },
    {
      "cell_type": "markdown",
      "metadata": {
        "id": "T-Ijj32oa-35"
      },
      "source": [
        "<h2>1 - Carregando as bibliotecas e os arquivos: </h2>"
      ]
    },
    {
      "cell_type": "code",
      "metadata": {
        "id": "r_LFgyBcURVW"
      },
      "source": [
        "# 1.1. Importando as bibliotecas necessárias:\n",
        "\n",
        "# 1.1.1 Biblioteca Pandas:\n",
        "import pandas as pd\n",
        "import matplotlib.pyplot as plt"
      ],
      "execution_count": 39,
      "outputs": []
    },
    {
      "cell_type": "code",
      "metadata": {
        "id": "D2lb2J-DWwjQ"
      },
      "source": [
        "# 1.2. Carregando os dados de cada um dos arquivos:\n",
        "\n",
        "df1 = pd.read_excel(\"Aracaju.xlsx\")\n",
        "df2 = pd.read_excel(\"Fortaleza.xlsx\")\n",
        "df3 = pd.read_excel(\"Natal.xlsx\")\n",
        "df4 = pd.read_excel(\"Recife.xlsx\")\n",
        "df5 = pd.read_excel(\"Salvador.xlsx\")\n",
        "\n",
        "# 1.2.1. Carregando todos os arquivos em um único data frame:\n",
        "\n",
        "df = pd.concat([df1,df2,df3,df4,df5])\n",
        "\n"
      ],
      "execution_count": 40,
      "outputs": []
    },
    {
      "cell_type": "markdown",
      "metadata": {
        "id": "EPhhs_xNbe0e"
      },
      "source": [
        "<h2>2 - Análise inical (compreendedo os dados): </h2>"
      ]
    },
    {
      "cell_type": "code",
      "metadata": {
        "colab": {
          "base_uri": "https://localhost:8080/",
          "height": 359
        },
        "id": "ZPIXej0XanGL",
        "outputId": "4f9bda43-2bb1-4a65-9185-7b2cd5ba344e"
      },
      "source": [
        "# 2.1. Analisando a consistência dos dados:\n",
        "\n",
        "df.sample(10)"
      ],
      "execution_count": 41,
      "outputs": [
        {
          "output_type": "execute_result",
          "data": {
            "text/html": [
              "<div>\n",
              "<style scoped>\n",
              "    .dataframe tbody tr th:only-of-type {\n",
              "        vertical-align: middle;\n",
              "    }\n",
              "\n",
              "    .dataframe tbody tr th {\n",
              "        vertical-align: top;\n",
              "    }\n",
              "\n",
              "    .dataframe thead th {\n",
              "        text-align: right;\n",
              "    }\n",
              "</style>\n",
              "<table border=\"1\" class=\"dataframe\">\n",
              "  <thead>\n",
              "    <tr style=\"text-align: right;\">\n",
              "      <th></th>\n",
              "      <th>Cidade</th>\n",
              "      <th>Data</th>\n",
              "      <th>Vendas</th>\n",
              "      <th>LojaID</th>\n",
              "      <th>Qtde</th>\n",
              "    </tr>\n",
              "  </thead>\n",
              "  <tbody>\n",
              "    <tr>\n",
              "      <th>77</th>\n",
              "      <td>Fortaleza</td>\n",
              "      <td>2019-01-01</td>\n",
              "      <td>167.64</td>\n",
              "      <td>1005</td>\n",
              "      <td>1</td>\n",
              "    </tr>\n",
              "    <tr>\n",
              "      <th>121</th>\n",
              "      <td>Aracaju</td>\n",
              "      <td>2018-01-01</td>\n",
              "      <td>162.07</td>\n",
              "      <td>1520</td>\n",
              "      <td>3</td>\n",
              "    </tr>\n",
              "    <tr>\n",
              "      <th>104</th>\n",
              "      <td>Recife</td>\n",
              "      <td>2019-01-01</td>\n",
              "      <td>40.11</td>\n",
              "      <td>983</td>\n",
              "      <td>5</td>\n",
              "    </tr>\n",
              "    <tr>\n",
              "      <th>129</th>\n",
              "      <td>Recife</td>\n",
              "      <td>2019-03-02</td>\n",
              "      <td>35.34</td>\n",
              "      <td>982</td>\n",
              "      <td>7</td>\n",
              "    </tr>\n",
              "    <tr>\n",
              "      <th>99</th>\n",
              "      <td>Aracaju</td>\n",
              "      <td>2018-01-01</td>\n",
              "      <td>139.32</td>\n",
              "      <td>1521</td>\n",
              "      <td>3</td>\n",
              "    </tr>\n",
              "    <tr>\n",
              "      <th>56</th>\n",
              "      <td>Natal</td>\n",
              "      <td>2018-03-02</td>\n",
              "      <td>704.00</td>\n",
              "      <td>852</td>\n",
              "      <td>4</td>\n",
              "    </tr>\n",
              "    <tr>\n",
              "      <th>159</th>\n",
              "      <td>Natal</td>\n",
              "      <td>2019-01-02</td>\n",
              "      <td>172.52</td>\n",
              "      <td>1035</td>\n",
              "      <td>1</td>\n",
              "    </tr>\n",
              "    <tr>\n",
              "      <th>174</th>\n",
              "      <td>Natal</td>\n",
              "      <td>2019-01-02</td>\n",
              "      <td>35.30</td>\n",
              "      <td>1037</td>\n",
              "      <td>1</td>\n",
              "    </tr>\n",
              "    <tr>\n",
              "      <th>102</th>\n",
              "      <td>Recife</td>\n",
              "      <td>2019-01-01</td>\n",
              "      <td>96.50</td>\n",
              "      <td>982</td>\n",
              "      <td>7</td>\n",
              "    </tr>\n",
              "    <tr>\n",
              "      <th>2</th>\n",
              "      <td>Natal</td>\n",
              "      <td>2019-03-11</td>\n",
              "      <td>308.00</td>\n",
              "      <td>852</td>\n",
              "      <td>3</td>\n",
              "    </tr>\n",
              "  </tbody>\n",
              "</table>\n",
              "</div>"
            ],
            "text/plain": [
              "        Cidade       Data  Vendas  LojaID  Qtde\n",
              "77   Fortaleza 2019-01-01  167.64    1005     1\n",
              "121    Aracaju 2018-01-01  162.07    1520     3\n",
              "104     Recife 2019-01-01   40.11     983     5\n",
              "129     Recife 2019-03-02   35.34     982     7\n",
              "99     Aracaju 2018-01-01  139.32    1521     3\n",
              "56       Natal 2018-03-02  704.00     852     4\n",
              "159      Natal 2019-01-02  172.52    1035     1\n",
              "174      Natal 2019-01-02   35.30    1037     1\n",
              "102     Recife 2019-01-01   96.50     982     7\n",
              "2        Natal 2019-03-11  308.00     852     3"
            ]
          },
          "metadata": {},
          "execution_count": 41
        }
      ]
    },
    {
      "cell_type": "code",
      "metadata": {
        "colab": {
          "base_uri": "https://localhost:8080/"
        },
        "id": "IdtYpBiLaoPI",
        "outputId": "e033bb3d-4fcd-42cb-91f3-412d00abb83a"
      },
      "source": [
        "# 2.2. Analisando os tipos de dados para cada uma das variáveis:\n",
        "\n",
        "df.dtypes"
      ],
      "execution_count": 42,
      "outputs": [
        {
          "output_type": "execute_result",
          "data": {
            "text/plain": [
              "Cidade            object\n",
              "Data      datetime64[ns]\n",
              "Vendas           float64\n",
              "LojaID             int64\n",
              "Qtde               int64\n",
              "dtype: object"
            ]
          },
          "metadata": {},
          "execution_count": 42
        }
      ]
    },
    {
      "cell_type": "code",
      "metadata": {
        "colab": {
          "base_uri": "https://localhost:8080/"
        },
        "id": "vDl3R1YNbr_q",
        "outputId": "5473345a-080a-4414-f194-31500a03cab3"
      },
      "source": [
        "# 2.3. Mensurando os dados faltantes no conjunto de dados:\n",
        "\n",
        "df.isnull().sum()"
      ],
      "execution_count": 43,
      "outputs": [
        {
          "output_type": "execute_result",
          "data": {
            "text/plain": [
              "Cidade    0\n",
              "Data      0\n",
              "Vendas    0\n",
              "LojaID    0\n",
              "Qtde      0\n",
              "dtype: int64"
            ]
          },
          "metadata": {},
          "execution_count": 43
        }
      ]
    },
    {
      "cell_type": "code",
      "metadata": {
        "colab": {
          "base_uri": "https://localhost:8080/",
          "height": 359
        },
        "id": "pUZxbmpdcEZl",
        "outputId": "0e78ae15-295a-4719-d8ea-a440e40cbfc2"
      },
      "source": [
        "# 2.4. Definindo uma métrica para mensurar as vendas:\n",
        "\n",
        "df[\"Receita\"] = df[\"Vendas\"].mul(df[\"Qtde\"])\n",
        "\n",
        "# 2.4.1. Avaliando a nova métrica:\n",
        "\n",
        "df.sample(10)"
      ],
      "execution_count": 44,
      "outputs": [
        {
          "output_type": "execute_result",
          "data": {
            "text/html": [
              "<div>\n",
              "<style scoped>\n",
              "    .dataframe tbody tr th:only-of-type {\n",
              "        vertical-align: middle;\n",
              "    }\n",
              "\n",
              "    .dataframe tbody tr th {\n",
              "        vertical-align: top;\n",
              "    }\n",
              "\n",
              "    .dataframe thead th {\n",
              "        text-align: right;\n",
              "    }\n",
              "</style>\n",
              "<table border=\"1\" class=\"dataframe\">\n",
              "  <thead>\n",
              "    <tr style=\"text-align: right;\">\n",
              "      <th></th>\n",
              "      <th>Cidade</th>\n",
              "      <th>Data</th>\n",
              "      <th>Vendas</th>\n",
              "      <th>LojaID</th>\n",
              "      <th>Qtde</th>\n",
              "      <th>Receita</th>\n",
              "    </tr>\n",
              "  </thead>\n",
              "  <tbody>\n",
              "    <tr>\n",
              "      <th>107</th>\n",
              "      <td>Salvador</td>\n",
              "      <td>2019-01-01</td>\n",
              "      <td>14.70</td>\n",
              "      <td>1035</td>\n",
              "      <td>1</td>\n",
              "      <td>14.70</td>\n",
              "    </tr>\n",
              "    <tr>\n",
              "      <th>139</th>\n",
              "      <td>Natal</td>\n",
              "      <td>2019-01-02</td>\n",
              "      <td>169.01</td>\n",
              "      <td>1036</td>\n",
              "      <td>1</td>\n",
              "      <td>169.01</td>\n",
              "    </tr>\n",
              "    <tr>\n",
              "      <th>222</th>\n",
              "      <td>Natal</td>\n",
              "      <td>2019-01-02</td>\n",
              "      <td>43.96</td>\n",
              "      <td>1037</td>\n",
              "      <td>1</td>\n",
              "      <td>43.96</td>\n",
              "    </tr>\n",
              "    <tr>\n",
              "      <th>2</th>\n",
              "      <td>Recife</td>\n",
              "      <td>2019-02-10</td>\n",
              "      <td>12.94</td>\n",
              "      <td>983</td>\n",
              "      <td>5</td>\n",
              "      <td>64.70</td>\n",
              "    </tr>\n",
              "    <tr>\n",
              "      <th>55</th>\n",
              "      <td>Fortaleza</td>\n",
              "      <td>2019-01-01</td>\n",
              "      <td>214.73</td>\n",
              "      <td>1002</td>\n",
              "      <td>4</td>\n",
              "      <td>858.92</td>\n",
              "    </tr>\n",
              "    <tr>\n",
              "      <th>204</th>\n",
              "      <td>Natal</td>\n",
              "      <td>2019-01-02</td>\n",
              "      <td>151.41</td>\n",
              "      <td>1037</td>\n",
              "      <td>2</td>\n",
              "      <td>302.82</td>\n",
              "    </tr>\n",
              "    <tr>\n",
              "      <th>39</th>\n",
              "      <td>Recife</td>\n",
              "      <td>2019-01-01</td>\n",
              "      <td>143.58</td>\n",
              "      <td>981</td>\n",
              "      <td>3</td>\n",
              "      <td>430.74</td>\n",
              "    </tr>\n",
              "    <tr>\n",
              "      <th>30</th>\n",
              "      <td>Aracaju</td>\n",
              "      <td>2018-01-01</td>\n",
              "      <td>119.21</td>\n",
              "      <td>1520</td>\n",
              "      <td>8</td>\n",
              "      <td>953.68</td>\n",
              "    </tr>\n",
              "    <tr>\n",
              "      <th>23</th>\n",
              "      <td>Salvador</td>\n",
              "      <td>2019-01-01</td>\n",
              "      <td>193.20</td>\n",
              "      <td>1036</td>\n",
              "      <td>3</td>\n",
              "      <td>579.60</td>\n",
              "    </tr>\n",
              "    <tr>\n",
              "      <th>129</th>\n",
              "      <td>Recife</td>\n",
              "      <td>2019-03-02</td>\n",
              "      <td>35.34</td>\n",
              "      <td>982</td>\n",
              "      <td>7</td>\n",
              "      <td>247.38</td>\n",
              "    </tr>\n",
              "  </tbody>\n",
              "</table>\n",
              "</div>"
            ],
            "text/plain": [
              "        Cidade       Data  Vendas  LojaID  Qtde  Receita\n",
              "107   Salvador 2019-01-01   14.70    1035     1    14.70\n",
              "139      Natal 2019-01-02  169.01    1036     1   169.01\n",
              "222      Natal 2019-01-02   43.96    1037     1    43.96\n",
              "2       Recife 2019-02-10   12.94     983     5    64.70\n",
              "55   Fortaleza 2019-01-01  214.73    1002     4   858.92\n",
              "204      Natal 2019-01-02  151.41    1037     2   302.82\n",
              "39      Recife 2019-01-01  143.58     981     3   430.74\n",
              "30     Aracaju 2018-01-01  119.21    1520     8   953.68\n",
              "23    Salvador 2019-01-01  193.20    1036     3   579.60\n",
              "129     Recife 2019-03-02   35.34     982     7   247.38"
            ]
          },
          "metadata": {},
          "execution_count": 44
        }
      ]
    },
    {
      "cell_type": "code",
      "metadata": {
        "colab": {
          "base_uri": "https://localhost:8080/"
        },
        "id": "feb2DXUcdRA-",
        "outputId": "c94b06f1-c505-472a-9f44-5b0002337085"
      },
      "source": [
        "# 2.5. Avaliando as receitas por cidade e ano:\n",
        "\n",
        "df.groupby([\"Cidade\",df[\"Data\"].dt.year])[\"Receita\"].sum()"
      ],
      "execution_count": 45,
      "outputs": [
        {
          "output_type": "execute_result",
          "data": {
            "text/plain": [
              "Cidade     Data\n",
              "Aracaju    2018    46276.29\n",
              "           2019     2471.96\n",
              "Fortaleza  2019    37913.97\n",
              "Natal      2018    71750.00\n",
              "           2019    95477.52\n",
              "Recife     2019    51936.51\n",
              "Salvador   2018      150.24\n",
              "           2019    40446.49\n",
              "Name: Receita, dtype: float64"
            ]
          },
          "metadata": {},
          "execution_count": 45
        }
      ]
    },
    {
      "cell_type": "code",
      "metadata": {
        "colab": {
          "base_uri": "https://localhost:8080/",
          "height": 359
        },
        "id": "I0zM9c-mgYBQ",
        "outputId": "23a7e0f8-4ceb-4137-d459-29680a2e72c8"
      },
      "source": [
        "# 2.6. Aumentando a granularidade das analises ao longo do tempo:\n",
        "\n",
        "# 2.6.1. Definindo o ano como uma nova variável (independente):\n",
        "\n",
        "df[\"anoVenda\"] = df[\"Data\"].dt.year\n",
        "\n",
        "# 2.6.2. Definindo o mês e o dia em novas variáveis:\n",
        "\n",
        "df[\"mesVenda\"], df[\"diaVenda\"] = (df[\"Data\"].dt.month, df[\"Data\"].dt.day)\n",
        "\n",
        "# 2.6.3. Definindo o trimestre como uma nova variável:\n",
        "\n",
        "df[\"trimestreVenda\"] = df[\"Data\"].dt.quarter\n",
        "\n",
        "# 2.6.4. Verificando as novas variáveis do conjunto de dados:\n",
        "\n",
        "df.sample(10)"
      ],
      "execution_count": 46,
      "outputs": [
        {
          "output_type": "execute_result",
          "data": {
            "text/html": [
              "<div>\n",
              "<style scoped>\n",
              "    .dataframe tbody tr th:only-of-type {\n",
              "        vertical-align: middle;\n",
              "    }\n",
              "\n",
              "    .dataframe tbody tr th {\n",
              "        vertical-align: top;\n",
              "    }\n",
              "\n",
              "    .dataframe thead th {\n",
              "        text-align: right;\n",
              "    }\n",
              "</style>\n",
              "<table border=\"1\" class=\"dataframe\">\n",
              "  <thead>\n",
              "    <tr style=\"text-align: right;\">\n",
              "      <th></th>\n",
              "      <th>Cidade</th>\n",
              "      <th>Data</th>\n",
              "      <th>Vendas</th>\n",
              "      <th>LojaID</th>\n",
              "      <th>Qtde</th>\n",
              "      <th>Receita</th>\n",
              "      <th>anoVenda</th>\n",
              "      <th>mesVenda</th>\n",
              "      <th>diaVenda</th>\n",
              "      <th>trimestreVenda</th>\n",
              "    </tr>\n",
              "  </thead>\n",
              "  <tbody>\n",
              "    <tr>\n",
              "      <th>60</th>\n",
              "      <td>Recife</td>\n",
              "      <td>2019-01-01</td>\n",
              "      <td>37.97</td>\n",
              "      <td>983</td>\n",
              "      <td>1</td>\n",
              "      <td>37.97</td>\n",
              "      <td>2019</td>\n",
              "      <td>1</td>\n",
              "      <td>1</td>\n",
              "      <td>1</td>\n",
              "    </tr>\n",
              "    <tr>\n",
              "      <th>165</th>\n",
              "      <td>Natal</td>\n",
              "      <td>2019-01-02</td>\n",
              "      <td>11.54</td>\n",
              "      <td>1037</td>\n",
              "      <td>1</td>\n",
              "      <td>11.54</td>\n",
              "      <td>2019</td>\n",
              "      <td>1</td>\n",
              "      <td>2</td>\n",
              "      <td>1</td>\n",
              "    </tr>\n",
              "    <tr>\n",
              "      <th>71</th>\n",
              "      <td>Aracaju</td>\n",
              "      <td>2018-01-01</td>\n",
              "      <td>228.27</td>\n",
              "      <td>1523</td>\n",
              "      <td>6</td>\n",
              "      <td>1369.62</td>\n",
              "      <td>2018</td>\n",
              "      <td>1</td>\n",
              "      <td>1</td>\n",
              "      <td>1</td>\n",
              "    </tr>\n",
              "    <tr>\n",
              "      <th>1</th>\n",
              "      <td>Aracaju</td>\n",
              "      <td>2018-01-01</td>\n",
              "      <td>14.21</td>\n",
              "      <td>1522</td>\n",
              "      <td>6</td>\n",
              "      <td>85.26</td>\n",
              "      <td>2018</td>\n",
              "      <td>1</td>\n",
              "      <td>1</td>\n",
              "      <td>1</td>\n",
              "    </tr>\n",
              "    <tr>\n",
              "      <th>122</th>\n",
              "      <td>Aracaju</td>\n",
              "      <td>2018-01-01</td>\n",
              "      <td>38.49</td>\n",
              "      <td>1522</td>\n",
              "      <td>4</td>\n",
              "      <td>153.96</td>\n",
              "      <td>2018</td>\n",
              "      <td>1</td>\n",
              "      <td>1</td>\n",
              "      <td>1</td>\n",
              "    </tr>\n",
              "    <tr>\n",
              "      <th>40</th>\n",
              "      <td>Aracaju</td>\n",
              "      <td>2018-01-01</td>\n",
              "      <td>6.99</td>\n",
              "      <td>1522</td>\n",
              "      <td>7</td>\n",
              "      <td>48.93</td>\n",
              "      <td>2018</td>\n",
              "      <td>1</td>\n",
              "      <td>1</td>\n",
              "      <td>1</td>\n",
              "    </tr>\n",
              "    <tr>\n",
              "      <th>66</th>\n",
              "      <td>Recife</td>\n",
              "      <td>2019-01-01</td>\n",
              "      <td>14.59</td>\n",
              "      <td>983</td>\n",
              "      <td>7</td>\n",
              "      <td>102.13</td>\n",
              "      <td>2019</td>\n",
              "      <td>1</td>\n",
              "      <td>1</td>\n",
              "      <td>1</td>\n",
              "    </tr>\n",
              "    <tr>\n",
              "      <th>37</th>\n",
              "      <td>Recife</td>\n",
              "      <td>2019-01-01</td>\n",
              "      <td>136.36</td>\n",
              "      <td>980</td>\n",
              "      <td>7</td>\n",
              "      <td>954.52</td>\n",
              "      <td>2019</td>\n",
              "      <td>1</td>\n",
              "      <td>1</td>\n",
              "      <td>1</td>\n",
              "    </tr>\n",
              "    <tr>\n",
              "      <th>5</th>\n",
              "      <td>Salvador</td>\n",
              "      <td>2019-01-01</td>\n",
              "      <td>179.20</td>\n",
              "      <td>1037</td>\n",
              "      <td>3</td>\n",
              "      <td>537.60</td>\n",
              "      <td>2019</td>\n",
              "      <td>1</td>\n",
              "      <td>1</td>\n",
              "      <td>1</td>\n",
              "    </tr>\n",
              "    <tr>\n",
              "      <th>54</th>\n",
              "      <td>Aracaju</td>\n",
              "      <td>2018-01-01</td>\n",
              "      <td>20.85</td>\n",
              "      <td>1523</td>\n",
              "      <td>1</td>\n",
              "      <td>20.85</td>\n",
              "      <td>2018</td>\n",
              "      <td>1</td>\n",
              "      <td>1</td>\n",
              "      <td>1</td>\n",
              "    </tr>\n",
              "  </tbody>\n",
              "</table>\n",
              "</div>"
            ],
            "text/plain": [
              "       Cidade       Data  Vendas  ...  mesVenda  diaVenda  trimestreVenda\n",
              "60     Recife 2019-01-01   37.97  ...         1         1               1\n",
              "165     Natal 2019-01-02   11.54  ...         1         2               1\n",
              "71    Aracaju 2018-01-01  228.27  ...         1         1               1\n",
              "1     Aracaju 2018-01-01   14.21  ...         1         1               1\n",
              "122   Aracaju 2018-01-01   38.49  ...         1         1               1\n",
              "40    Aracaju 2018-01-01    6.99  ...         1         1               1\n",
              "66     Recife 2019-01-01   14.59  ...         1         1               1\n",
              "37     Recife 2019-01-01  136.36  ...         1         1               1\n",
              "5    Salvador 2019-01-01  179.20  ...         1         1               1\n",
              "54    Aracaju 2018-01-01   20.85  ...         1         1               1\n",
              "\n",
              "[10 rows x 10 columns]"
            ]
          },
          "metadata": {},
          "execution_count": 46
        }
      ]
    },
    {
      "cell_type": "code",
      "metadata": {
        "colab": {
          "base_uri": "https://localhost:8080/"
        },
        "id": "VaorUwWujtmM",
        "outputId": "8d2793ca-bddb-4d62-ade1-1c6d65688a36"
      },
      "source": [
        "# 2.7. Avaliando as receitas pela cidade, ano e trimestre:\n",
        "\n",
        "df.groupby([\"Cidade\",\"anoVenda\",\"trimestreVenda\"])[\"Receita\"].sum()"
      ],
      "execution_count": 47,
      "outputs": [
        {
          "output_type": "execute_result",
          "data": {
            "text/plain": [
              "Cidade     anoVenda  trimestreVenda\n",
              "Aracaju    2018      1                 46276.29\n",
              "           2019      1                  2471.96\n",
              "Fortaleza  2019      1                 37913.97\n",
              "Natal      2018      1                 25088.00\n",
              "                     2                 23382.00\n",
              "                     3                 11658.00\n",
              "                     4                 11622.00\n",
              "           2019      1                 89211.52\n",
              "                     2                  6266.00\n",
              "Recife     2019      1                 51936.51\n",
              "Salvador   2018      1                   150.24\n",
              "           2019      1                 40446.49\n",
              "Name: Receita, dtype: float64"
            ]
          },
          "metadata": {},
          "execution_count": 47
        }
      ]
    },
    {
      "cell_type": "markdown",
      "metadata": {
        "id": "OSK7k6wpkcjj"
      },
      "source": [
        "<h2>3 - Análise Exploratória de Dados (EDA): </h2>"
      ]
    },
    {
      "cell_type": "code",
      "metadata": {
        "colab": {
          "base_uri": "https://localhost:8080/",
          "height": 265
        },
        "id": "N_Ih0-JWlNwA",
        "outputId": "8a45e824-c14e-4531-d2b2-ce1836939636"
      },
      "source": [
        "# 3.1. Analisando a receita por ano:\n",
        "\n",
        "df.groupby(\"anoVenda\")[\"Receita\"].sum().plot.pie()"
      ],
      "execution_count": 35,
      "outputs": [
        {
          "output_type": "execute_result",
          "data": {
            "text/plain": [
              "<matplotlib.axes._subplots.AxesSubplot at 0x7f3f4f599b50>"
            ]
          },
          "metadata": {},
          "execution_count": 35
        },
        {
          "output_type": "display_data",
          "data": {
            "image/png": "[encoded data removed]",
            "text/plain": [
              "<Figure size 432x288 with 1 Axes>"
            ]
          },
          "metadata": {}
        }
      ]
    },
    {
      "cell_type": "code",
      "metadata": {
        "colab": {
          "base_uri": "https://localhost:8080/",
          "height": 336
        },
        "id": "2zbAPNQkllZ4",
        "outputId": "ec1727d8-7fd7-404e-e905-a677265c6009"
      },
      "source": [
        "# 3.2. Analisando a receita por ano e por cidade:\n",
        "\n",
        "df.groupby(['Cidade','anoVenda'])[\"Receita\"].sum().unstack().plot.bar()\n"
      ],
      "execution_count": 74,
      "outputs": [
        {
          "output_type": "execute_result",
          "data": {
            "text/plain": [
              "<matplotlib.axes._subplots.AxesSubplot at 0x7f3f427c9cd0>"
            ]
          },
          "metadata": {},
          "execution_count": 74
        },
        {
          "output_type": "display_data",
          "data": {
            "image/png": "[encoded data removed]",
            "text/plain": [
              "<Figure size 432x288 with 1 Axes>"
            ]
          },
          "metadata": {
            "needs_background": "light"
          }
        }
      ]
    },
    {
      "cell_type": "code",
      "metadata": {
        "colab": {
          "base_uri": "https://localhost:8080/",
          "height": 331
        },
        "id": "eLmPSE9TkhyV",
        "outputId": "d968e393-3ebd-4782-948e-7ba8cb706d60"
      },
      "source": [
        "# 3.3. Analisando o total de vendas por cidade:\n",
        "df[\"Cidade\"].value_counts().plot.bar(title=\"Total vendas por Cidade\", color=\"red\")\n",
        "plt.xlabel(\"Cidade\")\n",
        "plt.ylabel(\"Total Vendas\");\n",
        "\n",
        "#df.groupby(['LojaID','Cidade'])['Qtde'].count().unstack().plot.bar()\n",
        "\n",
        "\n",
        "\n"
      ],
      "execution_count": 86,
      "outputs": [
        {
          "output_type": "display_data",
          "data": {
            "image/png": "[encoded data removed]",
            "text/plain": [
              "<Figure size 432x288 with 1 Axes>"
            ]
          },
          "metadata": {
            "needs_background": "light"
          }
        }
      ]
    },
    {
      "cell_type": "code",
      "metadata": {
        "colab": {
          "base_uri": "https://localhost:8080/",
          "height": 295
        },
        "id": "pL6CTjphvKY6",
        "outputId": "2b01fe6e-2169-403f-8f43-e04257288bfe"
      },
      "source": [
        "# 3.4. Total produtos vendidos por mês:\n",
        "\n",
        "df.groupby([\"mesVenda\",\"anoVenda\"])[\"Qtde\"].sum().unstack().plot(marker = \"o\")\n",
        "plt.title(\"Quantidade de produtos vendidos x mês\")\n",
        "plt.xlabel(\"Mês\")\n",
        "plt.ylabel(\"Total Produtos Vendidos\")\n",
        "plt.legend();"
      ],
      "execution_count": 97,
      "outputs": [
        {
          "output_type": "display_data",
          "data": {
            "image/png": "[encoded data removed]",
            "text/plain": [
              "<Figure size 432x288 with 1 Axes>"
            ]
          },
          "metadata": {
            "needs_background": "light"
          }
        }
      ]
    }
  ]
}